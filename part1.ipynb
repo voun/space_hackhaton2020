{
 "cells": [
  {
   "cell_type": "code",
   "execution_count": 3,
   "metadata": {},
   "outputs": [],
   "source": [
    "import pandas as pd\n",
    "import numpy as np\n",
    "import os\n",
    "from tqdm import tqdm\n"
   ]
  },
  {
   "cell_type": "code",
   "execution_count": 4,
   "metadata": {},
   "outputs": [],
   "source": [
    "train_path_checked = 'febhack2020/datasets/training/checked'\n",
    "dirs_checked = [dI for dI in os.listdir(train_path_checked) if os.path.isdir(os.path.join(train_path_checked,dI)) and dI != '.ipynb_checkpoints']\n",
    "\n",
    "train_path_unchecked = 'febhack2020/datasets/training/unchecked'\n",
    "dirs_unchecked = [dI for dI in os.listdir(train_path_unchecked) if os.path.isdir(os.path.join(train_path_unchecked,dI)) and dI != '.ipynb_checkpoints']\n",
    "\n",
    "valid_path = 'febhack2020/datasets/validation/'\n",
    "dirs_valid = [dI for dI in os.listdir(valid_path) if os.path.isdir(os.path.join(valid_path,dI)) and dI != '.ipynb_checkpoints']\n",
    "\n"
   ]
  },
  {
   "cell_type": "code",
   "execution_count": null,
   "metadata": {},
   "outputs": [],
   "source": []
  },
  {
   "cell_type": "code",
   "execution_count": 150,
   "metadata": {},
   "outputs": [],
   "source": []
  },
  {
   "cell_type": "code",
   "execution_count": null,
   "metadata": {},
   "outputs": [],
   "source": []
  },
  {
   "cell_type": "code",
   "execution_count": null,
   "metadata": {},
   "outputs": [],
   "source": []
  },
  {
   "cell_type": "code",
   "execution_count": 29,
   "metadata": {},
   "outputs": [],
   "source": []
  },
  {
   "cell_type": "code",
   "execution_count": null,
   "metadata": {},
   "outputs": [],
   "source": []
  },
  {
   "cell_type": "raw",
   "metadata": {},
   "source": []
  },
  {
   "cell_type": "code",
   "execution_count": null,
   "metadata": {},
   "outputs": [],
   "source": []
  },
  {
   "cell_type": "code",
   "execution_count": 6,
   "metadata": {},
   "outputs": [],
   "source": [
    "def time_persistence(data1a, n, param):\n",
    "\n",
    "    ts = np.array([data1a['ndvi_avg']]).reshape(-1,1)\n",
    "    cldfree = np.array([(data1a['SCL=4']+data1a['SCL=5'])/data1a['total']]) #percentage of cloud free pixels\n",
    "    \n",
    "    data1a = pd.to_datetime(data1a[\"t\"])\n",
    "    days=[0]\n",
    "    for ind in range(1, len(data), 1):\n",
    "        days +=  [days[ind-1] +(data.loc[ind,\"t\"] - data.loc[ind-1,\"t\"]).days]\n",
    "    \n",
    "    \n",
    "    while True:\n",
    "        \n",
    "        if n > 0 and n < len(data1a)-1:        \n",
    "            thresh1=1\n",
    "            while True:\n",
    "                tr_fl = cldfree > thresh1\n",
    "                added = [i for i, x in enumerate(tr_fl[0]) if x] # indices of cloud free days\n",
    "                try:\n",
    "                    n_per1 = np.max([i for i in added if i < n])\n",
    "                    break\n",
    "                except:\n",
    "                    thresh1*=0.995\n",
    "                if thresh1 <= param:\n",
    "                    n_per1 = 0\n",
    "                    break\n",
    "            \n",
    "            thresh2=1\n",
    "            while True:\n",
    "                tr_fl = cldfree > thresh2\n",
    "                added = [i for i, x in enumerate(tr_fl[0]) if x] # indices of cloud free days\n",
    "                try:\n",
    "                    n_per2 = np.min([i for i in added if i > n])\n",
    "                    break\n",
    "                except:\n",
    "                    thresh2*=0.995\n",
    "                if thresh2 <= param:\n",
    "                    n_per2 = 0\n",
    "                    break\n",
    "        \n",
    "            if thresh1 <= param and thresh2 <= param:\n",
    "                cldfree[0,n] = -1\n",
    "                ind = np.argmax(cldfree)\n",
    "                return ts[ind]\n",
    "                                                   \n",
    "   \n",
    "            diff1 = (days[n] - days[n_per1]) if thresh1 > param else 100000\n",
    "            diff2 = (days[n_per2] - days[n]) if thresh2 > param else 100000\n",
    "\n",
    "            ts[n] = ((thresh1/diff1)*ts[n_per1] + (thresh2/diff2)*ts[n_per2])/(thresh1/diff1+thresh2/diff2)\n",
    "            return ts[n]\n",
    "\n",
    "        elif n==0:\n",
    "            \n",
    "            thresh=1\n",
    "            while True:\n",
    "                tr_fl = cldfree > thresh\n",
    "                added = [i for i, x in enumerate(tr_fl[0]) if x] # indices of cloud free days\n",
    "                try:\n",
    "                    n_per = np.min([i for i in added if i > n])\n",
    "                    return ts[n_per]\n",
    "                    \n",
    "                except:\n",
    "                    thresh*=0.995          \n",
    "        else:\n",
    "            thresh=1\n",
    "            while True:\n",
    "                tr_fl = cldfree > thresh\n",
    "                added = [i for i, x in enumerate(tr_fl[0]) if x] # indices of cloud free days\n",
    "                try:\n",
    "                    n_per = np.max([i for i in added if i < n])\n",
    "                    return ts[n_per]\n",
    "                    \n",
    "                except:\n",
    "                    thresh*=0.995\n"
   ]
  },
  {
   "cell_type": "code",
   "execution_count": 204,
   "metadata": {},
   "outputs": [],
   "source": []
  },
  {
   "cell_type": "code",
   "execution_count": null,
   "metadata": {},
   "outputs": [],
   "source": []
  },
  {
   "cell_type": "code",
   "execution_count": null,
   "metadata": {},
   "outputs": [],
   "source": [
    "values = []\n",
    "for i in tqdm(range(70,100,1)):\n",
    "    param = i/100\n",
    "    loss=0\n",
    "    for dir_ in dirs_valid:\n",
    "\n",
    "        data_path = os.path.join(valid_path, dir_, 'data1a.csv')\n",
    "        target_path = os.path.join(valid_path, dir_, 'answer1a.txt')\n",
    "        data = pd.read_csv(data_path)\n",
    "        date = pd.to_datetime(data_path.split(\"_\")[0].split(\"/\")[-1])\n",
    "        data[\"t\"] = pd.to_datetime(data[\"t\"]).dt.date\n",
    "        n = data[data[\"t\"] == date].index[0]\n",
    "\n",
    "\n",
    "        y_pred = time_persistence(data, n, param)\n",
    "        y_true = float(open(target_path, \"r\").read())\n",
    "        loss += (y_pred-y_true)**2\n",
    "\n",
    "    loss = np.sqrt(loss/len(dirs_valid))\n",
    "    values += [[i, loss]]\n",
    "    print(i, loss)"
   ]
  },
  {
   "cell_type": "code",
   "execution_count": 7,
   "metadata": {},
   "outputs": [
    {
     "name": "stderr",
     "output_type": "stream",
     "text": [
      "100%|██████████| 98/98 [00:01<00:00, 92.14it/s]\n"
     ]
    }
   ],
   "source": [
    "loss=0\n",
    "for dir_ in tqdm(dirs_valid):\n",
    "\n",
    "    data_path = os.path.join(valid_path, dir_, 'data1a.csv')\n",
    "    target_path = os.path.join(valid_path, dir_, 'answer1a.txt')\n",
    "    data = pd.read_csv(data_path)\n",
    "    date = pd.to_datetime(data_path.split(\"_\")[0].split(\"/\")[-1])\n",
    "    data[\"t\"] = pd.to_datetime(data[\"t\"]).dt.date\n",
    "    n = data[data[\"t\"] == date].index[0]\n",
    "\n",
    "    y_pred = time_persistence(data, n, 0.97)\n",
    "    y_true = float(open(target_path, \"r\").read())\n",
    "    loss += (y_pred-y_true)**2\n",
    "\n",
    "loss = np.sqrt(loss/len(dirs_valid))"
   ]
  },
  {
   "cell_type": "code",
   "execution_count": 8,
   "metadata": {},
   "outputs": [
    {
     "data": {
      "text/plain": [
       "array([0.01962097])"
      ]
     },
     "execution_count": 8,
     "metadata": {},
     "output_type": "execute_result"
    }
   ],
   "source": [
    "loss"
   ]
  },
  {
   "cell_type": "code",
   "execution_count": 42,
   "metadata": {},
   "outputs": [],
   "source": []
  },
  {
   "cell_type": "code",
   "execution_count": null,
   "metadata": {},
   "outputs": [],
   "source": []
  },
  {
   "cell_type": "code",
   "execution_count": 68,
   "metadata": {},
   "outputs": [],
   "source": []
  },
  {
   "cell_type": "code",
   "execution_count": 71,
   "metadata": {},
   "outputs": [],
   "source": []
  },
  {
   "cell_type": "code",
   "execution_count": 75,
   "metadata": {},
   "outputs": [],
   "source": []
  },
  {
   "cell_type": "code",
   "execution_count": null,
   "metadata": {},
   "outputs": [],
   "source": []
  },
  {
   "cell_type": "code",
   "execution_count": null,
   "metadata": {},
   "outputs": [],
   "source": []
  },
  {
   "cell_type": "code",
   "execution_count": null,
   "metadata": {},
   "outputs": [],
   "source": []
  }
 ],
 "metadata": {
  "kernelspec": {
   "display_name": "Python 3",
   "language": "python",
   "name": "python3"
  },
  "language_info": {
   "codemirror_mode": {
    "name": "ipython",
    "version": 3
   },
   "file_extension": ".py",
   "mimetype": "text/x-python",
   "name": "python",
   "nbconvert_exporter": "python",
   "pygments_lexer": "ipython3",
   "version": "3.6.7"
  }
 },
 "nbformat": 4,
 "nbformat_minor": 4
}
